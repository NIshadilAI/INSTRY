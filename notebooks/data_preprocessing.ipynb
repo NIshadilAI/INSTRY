{
 "cells": [
  {
   "cell_type": "code",
   "execution_count": null,
   "metadata": {},
   "outputs": [],
   "source": [
    "import pandas as pd\n",
    "from src.data_loader import load_data\n",
    "\n",
    "# Load the data\n",
    "data = load_data('../data/industry_data.csv')\n",
    "\n",
    "# Display the first few rows of the data\n",
    "data.head()\n"
   ]
  }
 ],
 "metadata": {
  "language_info": {
   "name": "python"
  }
 },
 "nbformat": 4,
 "nbformat_minor": 2
}
